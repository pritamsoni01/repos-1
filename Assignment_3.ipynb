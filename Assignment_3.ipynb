{
 "cells": [
  {
   "cell_type": "markdown",
   "metadata": {},
   "source": [
    "# Question 1:"
   ]
  },
  {
   "cell_type": "code",
   "execution_count": 6,
   "metadata": {},
   "outputs": [
    {
     "name": "stdout",
     "output_type": "stream",
     "text": [
      "[ 2  5  8 11 14 17 20 23 26 29 32 35 38 41 44 47]\n"
     ]
    }
   ],
   "source": [
    "import numpy as num\n",
    "array = num.arange(2,50,3)\n",
    "print(array)"
   ]
  },
  {
   "cell_type": "markdown",
   "metadata": {},
   "source": [
    "# Question 2:"
   ]
  },
  {
   "cell_type": "code",
   "execution_count": 13,
   "metadata": {},
   "outputs": [
    {
     "name": "stdout",
     "output_type": "stream",
     "text": [
      "Enter items in list1: \n",
      "1\n",
      "0\n",
      "2\n",
      "3\n",
      "4\n",
      "[1, 0, 2, 3, 4]\n",
      "Enter items in list2: \n",
      "9\n",
      "1\n",
      "0\n",
      "8\n",
      "7\n",
      "[9, 1, 0, 8, 7]\n",
      "[[1 0 2 3 4]\n",
      " [9 1 0 8 7]]\n",
      "[[0 0 1 1 2 3 4 7 8 9]]\n"
     ]
    }
   ],
   "source": [
    "import numpy as num\n",
    "list1 = []\n",
    "list2 = []\n",
    "print(\"Enter items in list1: \")\n",
    "for i in range(5):\n",
    "    p = int(input())\n",
    "    list1.append(p)\n",
    "print(list1)\n",
    "print(\"Enter items in list2: \")\n",
    "for i in range(5):\n",
    "    p = int(input())\n",
    "    list2.append(p)\n",
    "print(list2)\n",
    "array = num.array([list1, list2])\n",
    "print(array)\n",
    "array = array.reshape(1,10)\n",
    "array = num.sort(array)\n",
    "array = array.reshape(1,10)\n",
    "print(array)"
   ]
  },
  {
   "cell_type": "markdown",
   "metadata": {},
   "source": [
    "# Question 3:"
   ]
  },
  {
   "cell_type": "code",
   "execution_count": 32,
   "metadata": {},
   "outputs": [
    {
     "name": "stdout",
     "output_type": "stream",
     "text": [
      "Number of dimensions:  2\n",
      "Shape of array:  (3, 3)\n",
      "Type of array:  <class 'numpy.ndarray'>\n",
      "Size of array:  9\n"
     ]
    }
   ],
   "source": [
    "import numpy as num\n",
    "arr = num.array([[1,2,3],[4,5,6],[7,8,9]])\n",
    "print(\"Number of dimensions: \" ,arr.ndim)\n",
    "print(\"Shape of array: \" ,arr.shape)\n",
    "print(\"Type of array: \" ,type(arr))\n",
    "print(\"Size of array: \" ,arr.size)"
   ]
  },
  {
   "cell_type": "markdown",
   "metadata": {},
   "source": [
    "# Question 4:"
   ]
  },
  {
   "cell_type": "code",
   "execution_count": 46,
   "metadata": {},
   "outputs": [
    {
     "name": "stdout",
     "output_type": "stream",
     "text": [
      "[1 2 3 4]\n",
      "[[1 2]\n",
      " [3 4]]\n"
     ]
    }
   ],
   "source": [
    "import numpy as num\n",
    "arr = num.array([1,2,3,4])\n",
    "print(arr)\n",
    "arr = arr.reshape(2,2)\n",
    "print(arr)"
   ]
  },
  {
   "cell_type": "markdown",
   "metadata": {},
   "source": [
    "# Question 5:"
   ]
  },
  {
   "cell_type": "code",
   "execution_count": 61,
   "metadata": {},
   "outputs": [
    {
     "name": "stdout",
     "output_type": "stream",
     "text": [
      "Vertical stack:\n",
      "  [[1 6 4]\n",
      " [8 6 4]\n",
      " [6 0 9]\n",
      " [3 5 9]]\n",
      "Horizontal stack: \n",
      " [[1 6 4 6 0 9]\n",
      " [8 6 4 3 5 9]]\n"
     ]
    }
   ],
   "source": [
    "import numpy as num\n",
    "arr1 = num.array([[1,6,4], [8,6,4]])\n",
    "arr2 = num.array([[6,0,9], [3,5,9]])\n",
    "print(\"Vertical stack:\\n \" ,num.vstack((arr1,arr2)))\n",
    "print(\"Horizontal stack: \\n\" ,num.hstack((arr1,arr2)))"
   ]
  },
  {
   "cell_type": "markdown",
   "metadata": {},
   "source": [
    "# Question 6:"
   ]
  },
  {
   "cell_type": "code",
   "execution_count": 62,
   "metadata": {},
   "outputs": [
    {
     "name": "stdout",
     "output_type": "stream",
     "text": [
      "[[1 2]\n",
      " [2 2]\n",
      " [3 2]\n",
      " [4 1]\n",
      " [5 1]]\n"
     ]
    }
   ],
   "source": [
    "import numpy as num\n",
    "num_list = num.array([1,2,2,1,3,4,5,3])\n",
    "(unique, counts) = num.unique(num_list, return_counts = True)\n",
    "freq = num.asarray((unique, counts)).T\n",
    "print(freq)"
   ]
  }
 ],
 "metadata": {
  "kernelspec": {
   "display_name": "Python 3",
   "language": "python",
   "name": "python3"
  },
  "language_info": {
   "codemirror_mode": {
    "name": "ipython",
    "version": 3
   },
   "file_extension": ".py",
   "mimetype": "text/x-python",
   "name": "python",
   "nbconvert_exporter": "python",
   "pygments_lexer": "ipython3",
   "version": "3.8.3"
  }
 },
 "nbformat": 4,
 "nbformat_minor": 4
}
