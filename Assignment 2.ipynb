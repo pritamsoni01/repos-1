{
 "cells": [
  {
   "cell_type": "markdown",
   "metadata": {},
   "source": [
    "# Question 1:"
   ]
  },
  {
   "cell_type": "code",
   "execution_count": 3,
   "metadata": {},
   "outputs": [
    {
     "name": "stdout",
     "output_type": "stream",
     "text": [
      "Enter numbers in list: 0\n",
      "Enter numbers in list: 1\n",
      "Enter numbers in list: 2\n",
      "Enter numbers in list: 3\n",
      "Enter numbers in list: 4\n",
      "Enter numbers in list: 5\n",
      "Enter numbers in list: 6\n",
      "Enter numbers in list: 7\n",
      "Enter numbers in list: 8\n",
      "Enter numbers in list: 9\n",
      "[0, 2, 4, 6, 8]\n"
     ]
    }
   ],
   "source": [
    "list1 = [ ]\n",
    "num = 0\n",
    "while(num<10):\n",
    "    p = int(input(\"Enter numbers in list: \"))\n",
    "    if num%2==0:\n",
    "        list1.append(p)\n",
    "    num = num+1\n",
    "print(list1)"
   ]
  },
  {
   "cell_type": "markdown",
   "metadata": {},
   "source": [
    "# Question 2:"
   ]
  },
  {
   "cell_type": "code",
   "execution_count": 37,
   "metadata": {},
   "outputs": [
    {
     "name": "stdout",
     "output_type": "stream",
     "text": [
      "PRITAM\n",
      "pritam\n",
      "['Python']\n",
      "1 4 9 16 25 \n",
      " [1, 3, 5]\n"
     ]
    }
   ],
   "source": [
    "#list comprehension:\n",
    "list1 = [\"PrItAm\"]\n",
    "for item in list1:\n",
    "    p = item.upper()\n",
    "print(p)\n",
    "p = item.lower()\n",
    "print(p)\n",
    "\n",
    "list2 = [ ]\n",
    "list2.append(\"Python\")\n",
    "print(list2)\n",
    "\n",
    "list3 = [1,2,3,4,5]\n",
    "for i in list3:\n",
    "    print(i*i, end = \" \")   \n",
    "\n",
    "list4 = [1,2,3,4,5]\n",
    "list5 = [3,5,8,6,1]\n",
    "new_list = [ ]\n",
    "for a in list4:\n",
    "    for b in list5:\n",
    "        if a==b:\n",
    "            new_list.append(a)\n",
    "print(\"\\n\",new_list)"
   ]
  },
  {
   "cell_type": "markdown",
   "metadata": {},
   "source": [
    "# Question 3:"
   ]
  },
  {
   "cell_type": "code",
   "execution_count": 53,
   "metadata": {},
   "outputs": [
    {
     "name": "stdout",
     "output_type": "stream",
     "text": [
      "5\n",
      "{1: 1, 2: 4, 3: 9, 4: 16}\n"
     ]
    }
   ],
   "source": [
    "dict1 = dict()\n",
    "k = int(input())\n",
    "for i in range(1,k+1):\n",
    "    dict1[i] = i*i\n",
    "print(dict1)"
   ]
  },
  {
   "cell_type": "markdown",
   "metadata": {},
   "source": [
    "# Question 4:"
   ]
  },
  {
   "cell_type": "code",
   "execution_count": 60,
   "metadata": {},
   "outputs": [
    {
     "name": "stdout",
     "output_type": "stream",
     "text": [
      "4\n",
      "UP 5\n",
      "DOWN 3\n",
      "LEFT 3\n",
      "RIGHT 2\n",
      "2\n"
     ]
    }
   ],
   "source": [
    "coord = {\"x\":0,\"y\":0}\n",
    "p = int(input())\n",
    "\n",
    "for i in range (p):\n",
    "    direction,steps =  input().split()      \n",
    "    if direction == \"UP\":             \n",
    "        coord[\"y\"] += int(steps)   \n",
    "    if direction == \"DOWN\":\n",
    "        coord[\"y\"] -= int(steps)\n",
    "    if direction == \"LEFT\":\n",
    "        coord[\"x\"] -= int(steps)\n",
    "    if direction == \"RIGHT\":\n",
    "        coord[\"x\"] += int(steps)\n",
    "\n",
    "result = int(round((coord[\"x\"]**2 + coord[\"y\"]**2)**0.5))\n",
    "print(result)"
   ]
  }
 ],
 "metadata": {
  "kernelspec": {
   "display_name": "Python 3",
   "language": "python",
   "name": "python3"
  },
  "language_info": {
   "codemirror_mode": {
    "name": "ipython",
    "version": 3
   },
   "file_extension": ".py",
   "mimetype": "text/x-python",
   "name": "python",
   "nbconvert_exporter": "python",
   "pygments_lexer": "ipython3",
   "version": "3.8.3"
  }
 },
 "nbformat": 4,
 "nbformat_minor": 4
}
